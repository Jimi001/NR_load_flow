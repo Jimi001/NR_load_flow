{
 "cells": [
  {
   "cell_type": "code",
   "execution_count": 1,
   "metadata": {},
   "outputs": [],
   "source": [
    "import numpy as np\n",
    "import pandas as pd"
   ]
  },
  {
   "cell_type": "code",
   "execution_count": 2,
   "metadata": {},
   "outputs": [],
   "source": [
    "# Load the bus, generator, and branch data\n",
    "bus_data = pd.read_csv('bus_data.csv')\n",
    "gen_data = pd.read_csv('generator_data.csv')\n",
    "branch_data = pd.read_csv('branch_data.csv')"
   ]
  },
  {
   "cell_type": "code",
   "execution_count": 3,
   "metadata": {},
   "outputs": [
    {
     "name": "stdout",
     "output_type": "stream",
     "text": [
      "   Bus No  Bus Type  Pd (MW)  Qd(Mvar)  Vm (p.u)  Va (p.u)  Vmax (p.u)  \\\n",
      "0       1         3      0.0       0.0     1.060      0.00        1.06   \n",
      "1       2         2     21.7      12.7     1.045     -4.98        1.06   \n",
      "2       3         2     94.2      19.0     1.010    -12.72        1.06   \n",
      "3       4         1     47.8      -3.9     1.019    -10.33        1.06   \n",
      "4       5         1      7.6       1.6     1.020     -8.78        1.06   \n",
      "\n",
      "   Vmin (p.u)  \n",
      "0        0.94  \n",
      "1        0.94  \n",
      "2        0.94  \n",
      "3        0.94  \n",
      "4        0.94  \n"
     ]
    }
   ],
   "source": [
    "print(bus_data.head())"
   ]
  },
  {
   "cell_type": "code",
   "execution_count": null,
   "metadata": {},
   "outputs": [],
   "source": []
  }
 ],
 "metadata": {
  "kernelspec": {
   "display_name": "Python 3 (ipykernel)",
   "language": "python",
   "name": "python3"
  },
  "language_info": {
   "codemirror_mode": {
    "name": "ipython",
    "version": 3
   },
   "file_extension": ".py",
   "mimetype": "text/x-python",
   "name": "python",
   "nbconvert_exporter": "python",
   "pygments_lexer": "ipython3",
   "version": "3.11.3"
  }
 },
 "nbformat": 4,
 "nbformat_minor": 2
}
